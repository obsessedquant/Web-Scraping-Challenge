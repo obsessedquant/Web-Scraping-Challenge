{
 "cells": [
  {
   "cell_type": "code",
   "execution_count": 32,
   "id": "d2e213a7",
   "metadata": {},
   "outputs": [],
   "source": [
    "import bs4\n",
    "from bs4 import BeautifulSoup as soup\n",
    "import pandas as pd\n",
    "import pprint\n",
    "\n",
    "# Needed for dynamic web pages\n",
    "from selenium import webdriver\n",
    "from selenium.webdriver.chrome.options import Options\n",
    "from splinter import Browser\n",
    "import os"
   ]
  },
  {
   "cell_type": "code",
   "execution_count": 33,
   "id": "84f2ea1e",
   "metadata": {},
   "outputs": [],
   "source": [
    "# Instantiate an Options object and add the --headless argument\n",
    "# This runs the browser in the background\n",
    "opts = Options()\n",
    "opts.add_argument(\" --headless\")\n",
    "\n",
    "# Set the location of the webdriver\n",
    "chrome_driver='C:\\\\Users\\\\srobi\\\\Projects\\\\chromedriver.exe'\n",
    "\n",
    "# Instantiate a webdriver\n",
    "driver = webdriver.Chrome(options=opts,executable_path=chrome_driver)\n",
    "\n",
    "# To scrape a url rather than a local file use this\n",
    "my_url = 'https://redplanetscience.com/'\n",
    "driver.get(my_url)\n",
    "\n",
    "# Put the page source into a variable and create a BS object from it, parse HTML\n",
    "page_html = driver.page_source\n",
    "page_soup = soup(page_html, \"html.parser\")\n",
    "\n",
    "# Close the browser\n",
    "driver.quit()"
   ]
  },
  {
   "cell_type": "code",
   "execution_count": 34,
   "id": "dae37316",
   "metadata": {},
   "outputs": [
    {
     "name": "stdout",
     "output_type": "stream",
     "text": [
      "\n",
      "Testing html parsing...\n",
      "News - Mars Exploration Program\n",
      "News\n",
      "NASA to Broadcast Mars 2020 Perseverance Launch, Prelaunch Activities\n",
      "MARS Planet Science\n",
      "Testing completed.\n",
      "\n"
     ]
    }
   ],
   "source": [
    "# Tests to see if html has been parsed properly\n",
    "print('\\nTesting html parsing...')\n",
    "print(page_soup.title.get_text())\n",
    "print(page_soup.h1.text) # shows header information\n",
    "print(page_soup.p.text) # shows paragraph information\n",
    "print(page_soup.body.span.text)\n",
    "print('Testing completed.\\n')"
   ]
  },
  {
   "cell_type": "code",
   "execution_count": 35,
   "id": "e8d35b84",
   "metadata": {},
   "outputs": [
    {
     "name": "stdout",
     "output_type": "stream",
     "text": [
      "There are 15 titles total.\n",
      "Here is the first title: \n",
      "Space History Is Made in This NASA Robot Factory\n",
      "\n",
      "There are 15 paragraphs total.\n",
      "Here is the first paragraph: \n",
      "From rockets to rovers, JPL's Spacecraft Assembly Facility has been at the center of robotic spaceflight. Here's a closer look at what makes it so special.\n",
      "\n"
     ]
    }
   ],
   "source": [
    "# Grabs each product\n",
    "titles = page_soup.findAll(\"div\",{\"class\":\"content_title\"})\n",
    "print(f'There are {len(titles)} titles total.') # find total number of containers\n",
    "news_title = titles[0].text # look at the first container\n",
    "print(f'Here is the first title: \\n{news_title}\\n')\n",
    "\n",
    "paragraphs = page_soup.findAll(\"div\",{\"class\":\"article_teaser_body\"})\n",
    "print(f'There are {len(paragraphs)} paragraphs total.') # find total number of containers\n",
    "news_p = paragraphs[0].text # look at the first container\n",
    "print(f'Here is the first paragraph: \\n{news_p}\\n')"
   ]
  },
  {
   "cell_type": "code",
   "execution_count": 36,
   "id": "5a2ef3d5",
   "metadata": {},
   "outputs": [
    {
     "name": "stdout",
     "output_type": "stream",
     "text": [
      "Testing that html has been parsed...\n",
      "Space Image\n",
      "Testing completed.\n"
     ]
    }
   ],
   "source": [
    "# Instantiate an Options object and add the --headless argument\n",
    "# This runs the browser in the background\n",
    "opts = Options()\n",
    "opts.add_argument(\" --headless\")\n",
    "\n",
    "# Set the location of the webdriver\n",
    "chrome_driver='C:\\\\Users\\\\srobi\\\\Projects\\\\chromedriver.exe'\n",
    "\n",
    "# Instantiate a webdriver\n",
    "driver = webdriver.Chrome(options=opts,executable_path=chrome_driver)\n",
    "\n",
    "# To scrape a url rather than a local file use this\n",
    "mars_image_url = 'https://spaceimages-mars.com/'\n",
    "driver.get(mars_image_url)\n",
    "\n",
    "# Put the page source into a variable and create a BS object from it, parse HTML\n",
    "page_html = driver.page_source\n",
    "page_soup = soup(page_html, \"html.parser\")\n",
    "\n",
    "# Load and print the title and the text of the <div>\n",
    "print('Testing that html has been parsed...')\n",
    "print(page_soup.title.get_text())\n",
    "print('Testing completed.')\n",
    "\n",
    "# Close the browser\n",
    "driver.quit()"
   ]
  },
  {
   "cell_type": "code",
   "execution_count": 91,
   "id": "5b8f7618",
   "metadata": {},
   "outputs": [
    {
     "data": {
      "text/html": [
       "<div>\n",
       "<style scoped>\n",
       "    .dataframe tbody tr th:only-of-type {\n",
       "        vertical-align: middle;\n",
       "    }\n",
       "\n",
       "    .dataframe tbody tr th {\n",
       "        vertical-align: top;\n",
       "    }\n",
       "\n",
       "    .dataframe thead th {\n",
       "        text-align: right;\n",
       "    }\n",
       "</style>\n",
       "<table border=\"1\" class=\"dataframe\">\n",
       "  <thead>\n",
       "    <tr style=\"text-align: right;\">\n",
       "      <th></th>\n",
       "      <th>Mars - Earth Comparison</th>\n",
       "      <th>Mars</th>\n",
       "      <th>Earth</th>\n",
       "    </tr>\n",
       "  </thead>\n",
       "  <tbody>\n",
       "    <tr>\n",
       "      <th>0</th>\n",
       "      <td>Diameter:</td>\n",
       "      <td>6,779 km</td>\n",
       "      <td>12,742 km</td>\n",
       "    </tr>\n",
       "    <tr>\n",
       "      <th>1</th>\n",
       "      <td>Mass:</td>\n",
       "      <td>6.39 × 10^23 kg</td>\n",
       "      <td>5.97 × 10^24 kg</td>\n",
       "    </tr>\n",
       "    <tr>\n",
       "      <th>2</th>\n",
       "      <td>Moons:</td>\n",
       "      <td>2</td>\n",
       "      <td>1</td>\n",
       "    </tr>\n",
       "    <tr>\n",
       "      <th>3</th>\n",
       "      <td>Distance from Sun:</td>\n",
       "      <td>227,943,824 km</td>\n",
       "      <td>149,598,262 km</td>\n",
       "    </tr>\n",
       "    <tr>\n",
       "      <th>4</th>\n",
       "      <td>Length of Year:</td>\n",
       "      <td>687 Earth days</td>\n",
       "      <td>365.24 days</td>\n",
       "    </tr>\n",
       "    <tr>\n",
       "      <th>5</th>\n",
       "      <td>Temperature:</td>\n",
       "      <td>-87 to -5 °C</td>\n",
       "      <td>-88 to 58°C</td>\n",
       "    </tr>\n",
       "  </tbody>\n",
       "</table>\n",
       "</div>"
      ],
      "text/plain": [
       "  Mars - Earth Comparison             Mars            Earth\n",
       "0               Diameter:         6,779 km        12,742 km\n",
       "1                   Mass:  6.39 × 10^23 kg  5.97 × 10^24 kg\n",
       "2                  Moons:                2                1\n",
       "3      Distance from Sun:   227,943,824 km   149,598,262 km\n",
       "4         Length of Year:   687 Earth days      365.24 days\n",
       "5            Temperature:     -87 to -5 °C      -88 to 58°C"
      ]
     },
     "execution_count": 91,
     "metadata": {},
     "output_type": "execute_result"
    }
   ],
   "source": [
    "df"
   ]
  },
  {
   "cell_type": "code",
   "execution_count": 37,
   "id": "8dba72d6",
   "metadata": {},
   "outputs": [
    {
     "name": "stdout",
     "output_type": "stream",
     "text": [
      "https://spaceimages-mars.com/image/featured/mars1.jpg\n",
      "Dataframe created from table.\n",
      "Dataframe converted to HTML table called html_table.\n",
      "There are 9 items in the submit variable.\n"
     ]
    }
   ],
   "source": [
    "\n",
    "\n",
    "# Display featured url\n",
    "images = page_soup.findAll('img')[1]\n",
    "featured_image_url = mars_image_url + images['src']\n",
    "print(featured_image_url)\n",
    "\n",
    "# Pandas scraping\n",
    "url = 'https://galaxyfacts-mars.com/'\n",
    "\n",
    "tables = pd.read_html(url,header=0)\n",
    "df = tables[0]\n",
    "print('Dataframe created from table.')\n",
    "\n",
    "# Used for bootstrap HTML table for better look\n",
    "table_headers = df.columns.tolist()\n",
    "table_rows = df.values.tolist()\n",
    "\n",
    "# Convert to HTML table, used to create table directly from dataframe\n",
    "html_table = df.to_html()\n",
    "html_table = html_table.replace('\\n','')\n",
    "print('Dataframe converted to HTML table called html_table.')\n",
    "\n",
    "# url for the image (Chrome version)\n",
    "mars_hemispheres_url = 'https://marshemispheres.com/'\n",
    "\n",
    "# Set up browser for Splinter\n",
    "executable_path = {'executable_path':'../chromedriver'}\n",
    "options = webdriver.ChromeOptions()\n",
    "options.add_argument(\"--start-maximized\") # start with window maximized\n",
    "options.add_argument(\"--disable-notifications\") # notifications turned off\n",
    "browser = Browser('chrome', **executable_path, headless=False, options = options)\n",
    "\n",
    "browser.visit(mars_hemispheres_url)\n",
    "\n",
    "submit = browser.find_by_css('a[class=\"itemLink product-item\"]')\n",
    "original_submit_count = len(submit)\n",
    "print(f'There are {original_submit_count} items in the submit variable.')"
   ]
  },
  {
   "cell_type": "code",
   "execution_count": 38,
   "id": "f570902f",
   "metadata": {},
   "outputs": [
    {
     "name": "stdout",
     "output_type": "stream",
     "text": [
      "https://marshemispheres.com/cerberus.html\n",
      "Astropedia Search Results | GUSS Astrogeology Science Center\n",
      "Cerberus Hemisphere Enhanced\n",
      "https://marshemispheres.com/images/f5e372a36edfa389625da6d0cc25d905_cerberus_enhanced.tif_full.jpg\n",
      "\n",
      "https://marshemispheres.com/schiaparelli.html\n",
      "Astropedia Search Results | GUSS Astrogeology Science Center\n",
      "Schiaparelli Hemisphere Enhanced\n",
      "https://marshemispheres.com/images/3778f7b43bbbc89d6e3cfabb3613ba93_schiaparelli_enhanced.tif_full.jpg\n",
      "\n",
      "https://marshemispheres.com/syrtis.html\n",
      "Astropedia Search Results | GUSS Astrogeology Science Center\n",
      "Syrtis Major Hemisphere Enhanced\n",
      "https://marshemispheres.com/images/555e6403a6ddd7ba16ddb0e471cadcf7_syrtis_major_enhanced.tif_full.jpg\n",
      "\n",
      "https://marshemispheres.com/valles.html\n",
      "Astropedia Search Results | GUSS Astrogeology Science Center\n",
      "Valles Marineris Hemisphere Enhanced\n",
      "https://marshemispheres.com/images/b3c7c6c9138f57b4756be9b9c43e3a48_valles_marineris_enhanced.tif_full.jpg\n",
      "\n"
     ]
    }
   ],
   "source": [
    "# Need to set up a loop to retrieve only even numbers\n",
    "# Can achieve this by adding 1 and divide by 2, mod needs to == 0\n",
    "hemisphere_image_urls = []\n",
    "\n",
    "for x in range(original_submit_count):\n",
    "    if (x+1) % 2 == 0:\n",
    "        # Splinter clicks on the submit element to open the page in Chrome\n",
    "        submit = browser.find_by_css('a[class=\"itemLink product-item\"]')\n",
    "        submit[x].click()\n",
    "\n",
    "        # Grab the current url using Splinter\n",
    "        # This will be used as input for Beautiful Soup to parse the HTML\n",
    "        current_url = browser.url\n",
    "        print(current_url)\n",
    "        \n",
    "        # Instantiate a webdriver\n",
    "        driver = webdriver.Chrome(options=opts,executable_path=chrome_driver)\n",
    "        driver.get(current_url)\n",
    "\n",
    "        # Put the page source into a variable and create a BS object from it, parse HTML\n",
    "        page_html = driver.page_source\n",
    "        page_soup = soup(page_html, \"html.parser\")\n",
    "\n",
    "        # Load and print the title as a test\n",
    "        print(page_soup.title.get_text())\n",
    "\n",
    "        # Close the browser\n",
    "        driver.quit()\n",
    "\n",
    "        # Find title of image\n",
    "        hemisphere_titles = page_soup.find_all(\"h2\", {\"class\":\"title\"})\n",
    "        title = hemisphere_titles[0].text\n",
    "        print(title)\n",
    "\n",
    "        # Find image_url\n",
    "        hemisphere_images = page_soup.find_all(\"img\", {\"class\":\"wide-image\"})\n",
    "        image_url = mars_hemispheres_url + hemisphere_images[0]['src']\n",
    "        print(image_url)\n",
    "        \n",
    "        # Append title and image_url to dictionary\n",
    "        dictionary = {'title':title,'img_url':image_url}\n",
    "        hemisphere_image_urls.append(dictionary)\n",
    "        \n",
    "        # Add a break line\n",
    "        print()\n",
    "        \n",
    "        # Splinter clicks on the browser Back button\n",
    "        browser.back()"
   ]
  },
  {
   "cell_type": "code",
   "execution_count": 39,
   "id": "72ce5ebd",
   "metadata": {},
   "outputs": [
    {
     "name": "stdout",
     "output_type": "stream",
     "text": [
      "[{'img_url': 'https://marshemispheres.com/images/f5e372a36edfa389625da6d0cc25d905_cerberus_enhanced.tif_full.jpg',\n",
      "  'title': 'Cerberus Hemisphere Enhanced'},\n",
      " {'img_url': 'https://marshemispheres.com/images/3778f7b43bbbc89d6e3cfabb3613ba93_schiaparelli_enhanced.tif_full.jpg',\n",
      "  'title': 'Schiaparelli Hemisphere Enhanced'},\n",
      " {'img_url': 'https://marshemispheres.com/images/555e6403a6ddd7ba16ddb0e471cadcf7_syrtis_major_enhanced.tif_full.jpg',\n",
      "  'title': 'Syrtis Major Hemisphere Enhanced'},\n",
      " {'img_url': 'https://marshemispheres.com/images/b3c7c6c9138f57b4756be9b9c43e3a48_valles_marineris_enhanced.tif_full.jpg',\n",
      "  'title': 'Valles Marineris Hemisphere Enhanced'}]\n",
      "\n"
     ]
    }
   ],
   "source": [
    "pprint.pprint(hemisphere_image_urls)\n",
    "print()"
   ]
  },
  {
   "cell_type": "code",
   "execution_count": 40,
   "id": "ca38e0dd",
   "metadata": {},
   "outputs": [
    {
     "name": "stdout",
     "output_type": "stream",
     "text": [
      "{'featured_image': 'https://spaceimages-mars.com/image/featured/mars1.jpg',\n",
      " 'mars_facts': '<table border=\"1\" class=\"dataframe\">  <thead>    <tr '\n",
      "               'style=\"text-align: right;\">      <th></th>      <th>Mars - '\n",
      "               'Earth Comparison</th>      <th>Mars</th>      '\n",
      "               '<th>Earth</th>    </tr>  </thead>  <tbody>    <tr>      '\n",
      "               '<th>0</th>      <td>Diameter:</td>      <td>6,779 km</td>      '\n",
      "               '<td>12,742 km</td>    </tr>    <tr>      <th>1</th>      '\n",
      "               '<td>Mass:</td>      <td>6.39 × 10^23 kg</td>      <td>5.97 × '\n",
      "               '10^24 kg</td>    </tr>    <tr>      <th>2</th>      '\n",
      "               '<td>Moons:</td>      <td>2</td>      <td>1</td>    </tr>    '\n",
      "               '<tr>      <th>3</th>      <td>Distance from Sun:</td>      '\n",
      "               '<td>227,943,824 km</td>      <td>149,598,262 km</td>    '\n",
      "               '</tr>    <tr>      <th>4</th>      <td>Length of '\n",
      "               'Year:</td>      <td>687 Earth days</td>      <td>365.24 '\n",
      "               'days</td>    </tr>    <tr>      <th>5</th>      '\n",
      "               '<td>Temperature:</td>      <td>-87 to -5 °C</td>      <td>-88 '\n",
      "               'to 58°C</td>    </tr>  </tbody></table>',\n",
      " 'mars_hemispheres': [{'img_url': 'https://marshemispheres.com/images/f5e372a36edfa389625da6d0cc25d905_cerberus_enhanced.tif_full.jpg',\n",
      "                       'title': 'Cerberus Hemisphere Enhanced'},\n",
      "                      {'img_url': 'https://marshemispheres.com/images/3778f7b43bbbc89d6e3cfabb3613ba93_schiaparelli_enhanced.tif_full.jpg',\n",
      "                       'title': 'Schiaparelli Hemisphere Enhanced'},\n",
      "                      {'img_url': 'https://marshemispheres.com/images/555e6403a6ddd7ba16ddb0e471cadcf7_syrtis_major_enhanced.tif_full.jpg',\n",
      "                       'title': 'Syrtis Major Hemisphere Enhanced'},\n",
      "                      {'img_url': 'https://marshemispheres.com/images/b3c7c6c9138f57b4756be9b9c43e3a48_valles_marineris_enhanced.tif_full.jpg',\n",
      "                       'title': 'Valles Marineris Hemisphere Enhanced'}],\n",
      " 'news_paragraph': \"From rockets to rovers, JPL's Spacecraft Assembly Facility \"\n",
      "                   \"has been at the center of robotic spaceflight. Here's a \"\n",
      "                   'closer look at what makes it so special.',\n",
      " 'news_title': 'Space History Is Made in This NASA Robot Factory'}\n"
     ]
    }
   ],
   "source": [
    "# Create dictionary of all scraped data\n",
    "final_dictionary = {\n",
    "    \"news_title\":news_title,\n",
    "    \"news_paragraph\":news_p,\n",
    "    \"featured_image\":featured_image_url,\n",
    "    \"mars_facts\":html_table,\n",
    "    \"mars_hemispheres\":hemisphere_image_urls\n",
    "}\n",
    "pprint.pprint(final_dictionary)"
   ]
  }
 ],
 "metadata": {
  "kernelspec": {
   "display_name": "Python [conda env:pyvizenv]",
   "language": "python",
   "name": "conda-env-pyvizenv-py"
  },
  "language_info": {
   "codemirror_mode": {
    "name": "ipython",
    "version": 3
   },
   "file_extension": ".py",
   "mimetype": "text/x-python",
   "name": "python",
   "nbconvert_exporter": "python",
   "pygments_lexer": "ipython3",
   "version": "3.7.11"
  }
 },
 "nbformat": 4,
 "nbformat_minor": 5
}
